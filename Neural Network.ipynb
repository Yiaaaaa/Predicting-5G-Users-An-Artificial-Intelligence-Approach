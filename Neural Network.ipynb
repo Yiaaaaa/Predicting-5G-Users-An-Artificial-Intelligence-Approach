{
 "cells": [
  {
   "cell_type": "code",
   "execution_count": 6,
   "id": "18727ec3",
   "metadata": {},
   "outputs": [
    {
     "name": "stdout",
     "output_type": "stream",
     "text": [
      "WARNING:tensorflow:From D:\\anaconda3\\Lib\\site-packages\\keras\\src\\backend.py:873: The name tf.get_default_graph is deprecated. Please use tf.compat.v1.get_default_graph instead.\n",
      "\n",
      "WARNING:tensorflow:From D:\\anaconda3\\Lib\\site-packages\\keras\\src\\optimizers\\__init__.py:309: The name tf.train.Optimizer is deprecated. Please use tf.compat.v1.train.Optimizer instead.\n",
      "\n",
      "Epoch 1/10\n",
      "WARNING:tensorflow:From D:\\anaconda3\\Lib\\site-packages\\keras\\src\\utils\\tf_utils.py:492: The name tf.ragged.RaggedTensorValue is deprecated. Please use tf.compat.v1.ragged.RaggedTensorValue instead.\n",
      "\n",
      "WARNING:tensorflow:From D:\\anaconda3\\Lib\\site-packages\\keras\\src\\engine\\base_layer_utils.py:384: The name tf.executing_eagerly_outside_functions is deprecated. Please use tf.compat.v1.executing_eagerly_outside_functions instead.\n",
      "\n",
      "16000/16000 [==============================] - 21s 1ms/step - loss: 0.0618 - accuracy: 0.9867 - val_loss: 0.0593 - val_accuracy: 0.9870\n",
      "Epoch 2/10\n",
      "16000/16000 [==============================] - 19s 1ms/step - loss: 0.0594 - accuracy: 0.9867 - val_loss: 0.0591 - val_accuracy: 0.9870\n",
      "Epoch 3/10\n",
      "16000/16000 [==============================] - 19s 1ms/step - loss: 0.0586 - accuracy: 0.9867 - val_loss: 0.0590 - val_accuracy: 0.9870\n",
      "Epoch 4/10\n",
      "16000/16000 [==============================] - 19s 1ms/step - loss: 0.0583 - accuracy: 0.9867 - val_loss: 0.0591 - val_accuracy: 0.9870\n",
      "Epoch 5/10\n",
      "16000/16000 [==============================] - 18s 1ms/step - loss: 0.0580 - accuracy: 0.9867 - val_loss: 0.0594 - val_accuracy: 0.9870\n",
      "Epoch 6/10\n",
      "16000/16000 [==============================] - 19s 1ms/step - loss: 0.0577 - accuracy: 0.9867 - val_loss: 0.0589 - val_accuracy: 0.9870\n",
      "Epoch 7/10\n",
      "16000/16000 [==============================] - 20s 1ms/step - loss: 0.0573 - accuracy: 0.9867 - val_loss: 0.0605 - val_accuracy: 0.9870\n",
      "Epoch 8/10\n",
      "16000/16000 [==============================] - 18s 1ms/step - loss: 0.0572 - accuracy: 0.9867 - val_loss: 0.0594 - val_accuracy: 0.9870\n",
      "Epoch 9/10\n",
      "16000/16000 [==============================] - 18s 1ms/step - loss: 0.0569 - accuracy: 0.9867 - val_loss: 0.0592 - val_accuracy: 0.9870\n",
      "Epoch 10/10\n",
      "16000/16000 [==============================] - 18s 1ms/step - loss: 0.0567 - accuracy: 0.9867 - val_loss: 0.0604 - val_accuracy: 0.9870\n",
      "5000/5000 [==============================] - 4s 699us/step\n",
      "AUC Score: 0.8357085014840988\n"
     ]
    }
   ],
   "source": [
    "# Read the data set\n",
    "data = pd.read_csv('train.csv')\n",
    "\n",
    "# Handling missing values\n",
    "data.dropna(inplace=True)\n",
    "\n",
    "# Segmentation features and target variables\n",
    "X = data.drop(['id','target'], axis=1)\n",
    "y = data['target']\n",
    "\n",
    "# Select some classification features\n",
    "cat_features = ['cat_{}'.format(i) for i in range(10)]\n",
    "X = X[cat_features]\n",
    "\n",
    "# One-hot encoding of discrete features\n",
    "X = pd.get_dummies(X, columns=cat_features)\n",
    "\n",
    "# Data normalization processing\n",
    "scaler = MinMaxScaler()\n",
    "X_scaled = scaler.fit_transform(X)\n",
    "\n",
    "# Divide training set and test set\n",
    "X_train, X_test, y_train, y_test = train_test_split(X_scaled, y, test_size=0.2, random_state=42)\n",
    "\n",
    "# Build a neural network model\n",
    "model = Sequential()\n",
    "model.add(Dense(64, activation='relu', input_dim=X_train.shape[1]))\n",
    "model.add(Dense(64, activation='relu'))\n",
    "model.add(Dense(1, activation='sigmoid'))\n",
    "\n",
    "# Compile model\n",
    "model.compile(loss='binary_crossentropy', optimizer='adam', metrics=['accuracy'])\n",
    "\n",
    "# Training model\n",
    "model.fit(X_train, y_train, batch_size=32, epochs=10, validation_split=0.2)\n",
    "\n",
    "# Make predictions on the test set\n",
    "y_pred = model.predict(X_test)\n",
    "\n",
    "# Calculate AUC indicator\n",
    "auc_score = roc_auc_score(y_test, y_pred)\n",
    "\n",
    "print(\"AUC Score:\", auc_score)"
   ]
  },
  {
   "cell_type": "code",
   "execution_count": null,
   "id": "47633a9e",
   "metadata": {},
   "outputs": [],
   "source": []
  }
 ],
 "metadata": {
  "kernelspec": {
   "display_name": "Python 3 (ipykernel)",
   "language": "python",
   "name": "python3"
  },
  "language_info": {
   "codemirror_mode": {
    "name": "ipython",
    "version": 3
   },
   "file_extension": ".py",
   "mimetype": "text/x-python",
   "name": "python",
   "nbconvert_exporter": "python",
   "pygments_lexer": "ipython3",
   "version": "3.11.4"
  }
 },
 "nbformat": 4,
 "nbformat_minor": 5
}
