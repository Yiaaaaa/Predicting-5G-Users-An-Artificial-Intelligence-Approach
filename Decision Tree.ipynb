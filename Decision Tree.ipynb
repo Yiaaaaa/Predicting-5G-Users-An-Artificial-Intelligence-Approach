{
 "cells": [
  {
   "cell_type": "code",
   "execution_count": 2,
   "id": "10a7ac9f",
   "metadata": {},
   "outputs": [
    {
     "name": "stdout",
     "output_type": "stream",
     "text": [
      "Accuracy: 0.986575\n",
      "AUC Score: 0.864371076483164\n",
      "selected features: Index(['cat_0', 'cat_1', 'cat_2', 'cat_3', 'cat_4', 'cat_5', 'cat_6', 'cat_7',\n",
      "       'cat_9', 'cat_10', 'cat_11', 'cat_12', 'cat_13', 'cat_14', 'cat_15',\n",
      "       'cat_18', 'cat_19', 'num_0', 'num_1', 'num_2', 'num_3', 'num_4',\n",
      "       'num_5', 'num_6', 'num_7', 'num_8', 'num_9', 'num_10', 'num_11',\n",
      "       'num_12', 'num_13', 'num_15', 'num_16', 'num_17', 'num_18', 'num_19',\n",
      "       'num_20', 'num_21', 'num_22', 'num_23', 'num_25', 'num_26', 'num_27',\n",
      "       'num_28', 'num_29', 'num_30', 'num_31', 'num_32', 'num_33', 'num_34',\n",
      "       'num_35', 'num_36'],\n",
      "      dtype='object')\n"
     ]
    }
   ],
   "source": [
    "import pandas as pd\n",
    "from sklearn.tree import DecisionTreeClassifier\n",
    "from sklearn.model_selection import train_test_split\n",
    "from sklearn.metrics import roc_auc_score\n",
    "from sklearn.feature_selection import VarianceThreshold\n",
    "\n",
    "# Read CSV file\n",
    "data = pd.read_csv('train.csv')\n",
    "\n",
    "# Handle missing values\n",
    "data.dropna(inplace=True)\n",
    "\n",
    "# Extract features and labels\n",
    "X = data.drop(['id', 'target'], axis=1)\n",
    "y = data['target']\n",
    "\n",
    "# Split the data into training and testing sets\n",
    "X_train, X_test, y_train, y_test = train_test_split(X, y, test_size=0.2, random_state=42)\n",
    "\n",
    "# Feature selection using variance threshold\n",
    "threshold = 0.1\n",
    "selector = VarianceThreshold(threshold=threshold)\n",
    "X_train_selected = selector.fit_transform(X_train)\n",
    "X_test_selected = selector.transform(X_test)\n",
    "\n",
    "# Create a decision tree classifier and tune the parameters\n",
    "clf = DecisionTreeClassifier(max_depth=6, min_samples_leaf=4, min_samples_split=8, random_state=42)\n",
    "\n",
    "# Train the decision tree model on the selected features\n",
    "clf.fit(X_train_selected, y_train)\n",
    "\n",
    "# Make predictions using the trained model\n",
    "predictions = clf.predict(X_test_selected)\n",
    "\n",
    "# Evaluate the model performance on the test set\n",
    "accuracy = clf.score(X_test_selected, y_test)\n",
    "print('Accuracy:', accuracy)\n",
    "\n",
    "# Calculate the predicted probabilities\n",
    "y_pred_proba = clf.predict_proba(X_test_selected)[:, 1]\n",
    "\n",
    "# Calculate the AUC value\n",
    "auc = roc_auc_score(y_test, y_pred_proba)\n",
    "print('AUC Score:', auc)\n",
    "\n",
    "# Output the selected features\n",
    "selected_features = X.columns[selector.get_support()]\n",
    "print('selected features:', selected_features)"
   ]
  }
 ],
 "metadata": {
  "kernelspec": {
   "display_name": "Python 3 (ipykernel)",
   "language": "python",
   "name": "python3"
  },
  "language_info": {
   "codemirror_mode": {
    "name": "ipython",
    "version": 3
   },
   "file_extension": ".py",
   "mimetype": "text/x-python",
   "name": "python",
   "nbconvert_exporter": "python",
   "pygments_lexer": "ipython3",
   "version": "3.11.4"
  }
 },
 "nbformat": 4,
 "nbformat_minor": 5
}
