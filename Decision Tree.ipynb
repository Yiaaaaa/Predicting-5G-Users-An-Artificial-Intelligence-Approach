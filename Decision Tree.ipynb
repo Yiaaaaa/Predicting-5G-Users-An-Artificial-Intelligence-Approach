{
 "cells": [
  {
   "cell_type": "code",
   "execution_count": 1,
   "id": "10a7ac9f",
   "metadata": {},
   "outputs": [
    {
     "name": "stdout",
     "output_type": "stream",
     "text": [
      "准确率: 0.98655\n",
      "AUC值: 0.875904539616196\n"
     ]
    }
   ],
   "source": [
    "import pandas as pd\n",
    "from sklearn.tree import DecisionTreeClassifier\n",
    "from sklearn.model_selection import train_test_split\n",
    "from sklearn.metrics import roc_auc_score\n",
    "\n",
    "# Read CSV file\n",
    "data = pd.read_csv('C:/data/train.csv')\n",
    "\n",
    "# Extract features and labels\n",
    "X = data.drop(['id', 'target'], axis=1)  # Remove the id and target columns\n",
    "y = data['target']\n",
    "\n",
    "# Split the data into training and testing sets\n",
    "X_train, X_test, y_train, y_test = train_test_split(X, y, test_size=0.2, random_state=42)\n",
    "\n",
    "# Create a decision tree classifier and tune the parameters\n",
    "clf = DecisionTreeClassifier(max_depth=6, min_samples_leaf=4, min_samples_split=8, random_state=42)\n",
    "\n",
    "# Train the decision tree model\n",
    "clf.fit(X_train, y_train)\n",
    "\n",
    "# Make predictions using the trained model\n",
    "predictions = clf.predict(X_test)\n",
    "\n",
    "# Evaluate the model performance on the test set\n",
    "accuracy = clf.score(X_test, y_test)\n",
    "print('准确率:', accuracy)\n",
    "\n",
    "# Calculate the predicted probabilities\n",
    "y_pred_proba = clf.predict_proba(X_test)[:, 1]\n",
    "\n",
    "# Calculate the AUC value\n",
    "auc = roc_auc_score(y_test, y_pred_proba)\n",
    "print('AUC值:', auc)"
   ]
  },
  {
   "cell_type": "code",
   "execution_count": null,
   "id": "68c54763",
   "metadata": {},
   "outputs": [],
   "source": []
  }
 ],
 "metadata": {
  "kernelspec": {
   "display_name": "Python 3 (ipykernel)",
   "language": "python",
   "name": "python3"
  },
  "language_info": {
   "codemirror_mode": {
    "name": "ipython",
    "version": 3
   },
   "file_extension": ".py",
   "mimetype": "text/x-python",
   "name": "python",
   "nbconvert_exporter": "python",
   "pygments_lexer": "ipython3",
   "version": "3.11.4"
  }
 },
 "nbformat": 4,
 "nbformat_minor": 5
}
