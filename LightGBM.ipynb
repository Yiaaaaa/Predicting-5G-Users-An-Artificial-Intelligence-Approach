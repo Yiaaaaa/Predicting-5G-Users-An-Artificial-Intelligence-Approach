{
 "cells": [
  {
   "cell_type": "code",
   "execution_count": 7,
   "id": "fae11568",
   "metadata": {},
   "outputs": [
    {
     "name": "stdout",
     "output_type": "stream",
     "text": [
      "AUC Score (LightGBM): 0.9225155330218248\n"
     ]
    }
   ],
   "source": [
    "import pandas as pd\n",
    "from sklearn.model_selection import train_test_split\n",
    "import lightgbm as lgb\n",
    "from sklearn.metrics import roc_auc_score\n",
    "\n",
    "# Load the dataset\n",
    "data = pd.read_csv('train.csv')\n",
    "\n",
    "# Prepare the data\n",
    "X = data.drop(['id', 'target'], axis=1)\n",
    "y = data['target']\n",
    "\n",
    "# Split the data into training and testing sets\n",
    "X_train, X_test, y_train, y_test = train_test_split(X, y, test_size=0.2, random_state=42)\n",
    "\n",
    "# Set the parameters for the LightGBM model\n",
    "params = {\n",
    "    'objective': 'binary',\n",
    "    'metric': 'auc',\n",
    "    'boosting_type': 'gbdt',\n",
    "    'num_leaves': 31,\n",
    "    'learning_rate': 0.05,\n",
    "    'feature_fraction': 0.9,\n",
    "    'bagging_fraction': 0.8,\n",
    "    'bagging_freq': 5,\n",
    "    'verbose': 0,\n",
    "    'random_state': 42\n",
    "}\n",
    "\n",
    "# Create LightGBM datasets for training and evaluation\n",
    "lgb_train = lgb.Dataset(X_train, y_train)\n",
    "lgb_eval = lgb.Dataset(X_test, y_test, reference=lgb_train)\n",
    "\n",
    "# Train the LightGBM model\n",
    "model = lgb.train(params,\n",
    "                  lgb_train,\n",
    "                  num_boost_round=1000,\n",
    "                  valid_sets=[lgb_train, lgb_eval])\n",
    "\n",
    "# Make predictions on the testing data\n",
    "y_pred = model.predict(X_test)\n",
    "\n",
    "# Compute the AUC score\n",
    "auc_score = roc_auc_score(y_test, y_pred)\n",
    "\n",
    "# Print the AUC score\n",
    "print(\"AUC Score (LightGBM):\", auc_score)"
   ]
  },
  {
   "cell_type": "code",
   "execution_count": null,
   "id": "113170d2",
   "metadata": {},
   "outputs": [],
   "source": []
  }
 ],
 "metadata": {
  "kernelspec": {
   "display_name": "Python 3 (ipykernel)",
   "language": "python",
   "name": "python3"
  },
  "language_info": {
   "codemirror_mode": {
    "name": "ipython",
    "version": 3
   },
   "file_extension": ".py",
   "mimetype": "text/x-python",
   "name": "python",
   "nbconvert_exporter": "python",
   "pygments_lexer": "ipython3",
   "version": "3.11.4"
  }
 },
 "nbformat": 4,
 "nbformat_minor": 5
}
