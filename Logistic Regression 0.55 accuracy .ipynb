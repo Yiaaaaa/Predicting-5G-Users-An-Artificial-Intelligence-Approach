{
 "cells": [
  {
   "cell_type": "code",
   "execution_count": 2,
   "id": "b0fae2f2",
   "metadata": {},
   "outputs": [
    {
     "name": "stdout",
     "output_type": "stream",
     "text": [
      "Optimal number of features:15\n",
      "Selected feature:['cat_0', 'cat_2', 'cat_3', 'cat_4', 'cat_6', 'cat_7', 'cat_8', 'cat_10', 'cat_11', 'cat_12', 'num_2', 'num_6', 'num_18', 'num_25', 'num_30']\n"
     ]
    }
   ],
   "source": [
    "from sklearn import model_selection\n",
    "from sklearn.linear_model import LogisticRegression\n",
    "from sklearn.metrics import accuracy_score\n",
    "from sklearn.metrics import recall_score\n",
    "import numpy as np\n",
    "import pandas as pd\n",
    "import warnings\n",
    "warnings.filterwarnings(\"ignore\")\n",
    "\n",
    "#Import data\n",
    "data = pd.read_csv('train.csv')\n",
    "data\n",
    "\n",
    "#Feature selection using RFECV cross-validation, RFE recursive feature elimination, and CV cross-validation\n",
    "from sklearn.linear_model import LogisticRegression\n",
    "from sklearn.feature_selection import RFE#import the package first\n",
    "\n",
    "cols=[\"cat_0\",\"cat_1\",\"cat_2\",\"cat_3\",\"cat_4\",\"cat_5\",\"cat_6\",\"cat_7\",\"cat_8\",\"cat_9\",\"cat_10\",\"cat_11\",\"cat_12\",\"cat_13\",\"cat_14\",\"cat_15\",\"cat_16\",\"cat_17\",\"cat_18\",\"cat_19\",\n",
    "\"num_0\",\"num_1\",\"num_2\",\"num_3\",\"num_4\",\"num_5\",\"num_6\",\"num_7\",\"num_8\",\"num_9\",\"num_10\",\"num_11\",\"num_12\",\"num_13\",\"num_14\",\"num_15\",\n",
    "\"num_16\",\"num_17\",\"num_18\",\"num_19\",\"num_20\",\"num_21\",\"num_22\",\"num_23\",\"num_24\",\"num_25\",\"num_26\",\"num_27\",\"num_28\",\"num_29\",\"num_30\",\n",
    "\"num_31\",\"num_32\",\"num_33\",\"num_34\",\"num_35\",\"num_36\",\"num_37\"]\n",
    "x=data[cols]\n",
    "y=data['target']\n",
    "\n",
    "\n",
    "from sklearn.feature_selection import RFECV#import the package first\n",
    "\n",
    "rfecv=RFECV(estimator=LogisticRegression(),          # classifier\n",
    "              min_features_to_select=15, # minimum selected feature count\n",
    "              step=28,                 # number of features to remove\n",
    "              cv=2,  # Cross-validation times\n",
    "              scoring='accuracy',    # evaluation metrics for the learner\n",
    "            )\n",
    "rfecv.fit(x,y)\n",
    "print(\"Optimal number of features:%d\"%rfecv.n_features_)\n",
    "print('Selected feature:%s' % list(x.columns[rfecv.support_]))\n"
   ]
  },
  {
   "cell_type": "code",
   "execution_count": 1,
   "id": "3aaa110d",
   "metadata": {},
   "outputs": [
    {
     "name": "stdout",
     "output_type": "stream",
     "text": [
      "(720000, 59)\n",
      "0.5899375\n",
      "训练集准确率： 0.5899375\n",
      "测试集准确率： 0.5913125\n",
      "训练集召回率： 0.5575105390545794\n",
      "测试集召回率： 0.5574067473044617\n",
      "0.9830930555555556\n"
     ]
    },
    {
     "data": {
      "text/plain": [
       "0.5574067473044618"
      ]
     },
     "execution_count": 1,
     "metadata": {},
     "output_type": "execute_result"
    }
   ],
   "source": [
    "from sklearn import model_selection\n",
    "from sklearn.linear_model import LogisticRegression\n",
    "from sklearn.metrics import accuracy_score\n",
    "from sklearn.metrics import recall_score\n",
    "import numpy as np\n",
    "import pandas as pd\n",
    "import warnings\n",
    "warnings.filterwarnings(\"ignore\")\n",
    "\n",
    "#Import data\n",
    "data = pd.read_csv('train.csv')\n",
    "y = data['target']\n",
    "X = data.drop('target', axis=1)\n",
    "\n",
    "y.mean()  # calculate the mean\n",
    "\n",
    "# split the data into training and test sets\n",
    "x_tran, x_test, y_tran, y_test = model_selection.train_test_split(X, y, test_size=0.9)\n",
    "print(x_test.shape)\n",
    "\n",
    "# Use Sklearn classification algorithms such as logistic regression, decision tree, SVM, KNN, etc. to perform classification. Try to check the Sklearn API to understand the meaning of the model parameters and adjust different parameters.\n",
    "lr = LogisticRegression(multi_class='ovr', solver='sag', class_weight='balanced')\n",
    "lr.fit(x_tran, y_tran)\n",
    "score = lr.score(x_tran, y_tran)\n",
    "print(score)  # The best score is 1\n",
    "\n",
    "# Make predictions on the test set and calculate accuracy\n",
    "train_score = accuracy_score(y_tran, lr.predict(x_tran))\n",
    "test_score = lr.score(x_test, y_test)\n",
    "print('训练集准确率：', train_score)\n",
    "print('测试集准确率：', test_score)\n",
    "\n",
    "# Classification problem evaluation criteria, and evaluation for this case\n",
    "# sensitivity\n",
    "train_recall = recall_score(y_tran, lr.predict(x_tran), average='macro')\n",
    "test_recall = recall_score(y_test, lr.predict(x_test), average='macro')\n",
    "print('训练集召回率：', train_recall)\n",
    "print('测试集召回率：', test_recall)\n",
    "\n",
    "# For example, in logistic regression, we typically set the probability threshold at 0.5 for classification. However, we can lower the threshold to increase the model's \"sensitivity\". Let's try setting the threshold to 0.3 and evaluate the performance metrics, primarily accuracy and recall\n",
    "# tips:For many classification models in sklearn, predict_prob can get the estimated probability, and you can judge the final result (classification category) based on it and the set threshold.\n",
    "y_pro = lr.predict_proba(x_test)  # Get predicted probability value\n",
    "y_prd2 = [list(p >= 0.3).index(1) for i, p in enumerate(y_pro)]  # Set a threshold of 0.3, and classify anything greater than 0.3 as 1.\n",
    "train_score =accuracy_score(y_test, y_prd2)\n",
    "print(train_score)\n",
    "\n",
    "#Using AUC as the standard to score the model's predictions.\n",
    "from sklearn.metrics import roc_auc_score\n",
    "y_pred=lr.predict(x_test)\n",
    "roc_auc_score(y_test,y_pred)"
   ]
  },
  {
   "cell_type": "code",
   "execution_count": null,
   "id": "64bced95",
   "metadata": {},
   "outputs": [],
   "source": []
  }
 ],
 "metadata": {
  "kernelspec": {
   "display_name": "Python 3 (ipykernel)",
   "language": "python",
   "name": "python3"
  },
  "language_info": {
   "codemirror_mode": {
    "name": "ipython",
    "version": 3
   },
   "file_extension": ".py",
   "mimetype": "text/x-python",
   "name": "python",
   "nbconvert_exporter": "python",
   "pygments_lexer": "ipython3",
   "version": "3.11.4"
  }
 },
 "nbformat": 4,
 "nbformat_minor": 5
}
